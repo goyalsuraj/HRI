{
  "nbformat": 4,
  "nbformat_minor": 0,
  "metadata": {
    "colab": {
      "name": "Python_Basics4_if_statement.ipynb",
      "provenance": [],
      "collapsed_sections": []
    },
    "kernelspec": {
      "name": "python2",
      "display_name": "Python 2"
    }
  },
  "cells": [
    {
      "cell_type": "markdown",
      "metadata": {
        "id": "EVMIU9AG2GsL",
        "colab_type": "text"
      },
      "source": [
        "**Conditional Statements: Actions in real world are not always sequential.A program might need to skip over certain statements and only execute a particular set of statements, based on certain entry conditions.\n",
        "A control structure helps in defining the order of execution of the statements.**"
      ]
    },
    {
      "cell_type": "code",
      "metadata": {
        "id": "Szf02Mm_1KOZ",
        "colab_type": "code",
        "outputId": "0d9aff65-7567-45e8-a665-af79413a63d6",
        "colab": {
          "base_uri": "https://localhost:8080/",
          "height": 34
        }
      },
      "source": [
        "num = 30\n",
        "#Statement only exectured for number being greater than 0\n",
        "if num > 0:\n",
        "    print num, \"is a positive integer\""
      ],
      "execution_count": 0,
      "outputs": [
        {
          "output_type": "stream",
          "text": [
            "30 is a positive integer\n"
          ],
          "name": "stdout"
        }
      ]
    },
    {
      "cell_type": "code",
      "metadata": {
        "id": "iTlIHaa52kNr",
        "colab_type": "code",
        "outputId": "2e12ff0c-2e77-4fbf-9acc-1a42aa44ab17",
        "colab": {
          "base_uri": "https://localhost:8080/",
          "height": 34
        }
      },
      "source": [
        "num = -1\n",
        "if num < 0:\n",
        "    print num, \"is a negative integer\""
      ],
      "execution_count": 0,
      "outputs": [
        {
          "output_type": "stream",
          "text": [
            "-1 is a negative integer\n"
          ],
          "name": "stdout"
        }
      ]
    },
    {
      "cell_type": "markdown",
      "metadata": {
        "id": "XlwuLqSw39QW",
        "colab_type": "text"
      },
      "source": [
        "**Nested Statement** and play with different data types to see results"
      ]
    },
    {
      "cell_type": "code",
      "metadata": {
        "id": "wuQlMpJ63ALz",
        "colab_type": "code",
        "outputId": "2c7350ac-2771-4c86-9f13-3be54b54b175",
        "colab": {
          "base_uri": "https://localhost:8080/",
          "height": 52
        }
      },
      "source": [
        "#num=1\n",
        "num=-1.5\n",
        "if num<0:\n",
        "  print num,\"is a negative value\"\n",
        "  if type(num)!=int:\n",
        "    print num,\"also not an integer\""
      ],
      "execution_count": 0,
      "outputs": [
        {
          "output_type": "stream",
          "text": [
            "-1.5 is a negative value\n",
            "-1.5 also not an integer\n"
          ],
          "name": "stdout"
        }
      ]
    },
    {
      "cell_type": "markdown",
      "metadata": {
        "id": "BbgzXUA54VAB",
        "colab_type": "text"
      },
      "source": [
        "**Adding another condition:**\n",
        "Else just means everything except the previous if statement"
      ]
    },
    {
      "cell_type": "code",
      "metadata": {
        "id": "cAdZqZ8E4VPe",
        "colab_type": "code",
        "outputId": "f8d06c4f-57c3-4084-a71e-3ef083893329",
        "colab": {
          "base_uri": "https://localhost:8080/",
          "height": 34
        }
      },
      "source": [
        "num = -1\n",
        "if num < 0:\n",
        "    print num, \"is a negative integer\"\n",
        "else:\n",
        "    print num, \"is a positive integer\""
      ],
      "execution_count": 0,
      "outputs": [
        {
          "output_type": "stream",
          "text": [
            "-1 is a negative integer\n"
          ],
          "name": "stdout"
        }
      ]
    },
    {
      "cell_type": "code",
      "metadata": {
        "id": "GJouiTCc4wpq",
        "colab_type": "code",
        "outputId": "47bbfb1c-6992-4c18-8b0c-c455982f2728",
        "colab": {
          "base_uri": "https://localhost:8080/",
          "height": 50
        }
      },
      "source": [
        "#num=1\n",
        "num=1\n",
        "if num<0:\n",
        "  print num,\"is a negative value\"\n",
        "else:\n",
        "  print num,\"is a positive value\"\n",
        "  if type(num)!=int:\n",
        "    print num,\"also not an integer\"\n",
        "  else:\n",
        "    print num,\"might be an integer\""
      ],
      "execution_count": 0,
      "outputs": [
        {
          "output_type": "stream",
          "text": [
            "1 is a positive value\n",
            "1 might be an integer\n"
          ],
          "name": "stdout"
        }
      ]
    },
    {
      "cell_type": "markdown",
      "metadata": {
        "id": "J5h4Kd7N5h_Q",
        "colab_type": "text"
      },
      "source": [
        "Another condition elseif"
      ]
    },
    {
      "cell_type": "code",
      "metadata": {
        "id": "8dwMv9Nz5lRj",
        "colab_type": "code",
        "outputId": "9f3f5840-dbc7-4f61-8794-c668d163fc70",
        "colab": {
          "base_uri": "https://localhost:8080/",
          "height": 33
        }
      },
      "source": [
        "#num=1\n",
        "num=1\n",
        "if num<0:\n",
        "  print num,\"is a negative value\"\n",
        "  \n",
        "elif num%2==0:\n",
        "  print num,\"is not a negative but an even value\"\n",
        "  \n",
        "else:\n",
        "  print num,\"is a not a negative or an even value\""
      ],
      "execution_count": 0,
      "outputs": [
        {
          "output_type": "stream",
          "text": [
            "1 is a not a negative or an even value\n"
          ],
          "name": "stdout"
        }
      ]
    },
    {
      "cell_type": "markdown",
      "metadata": {
        "id": "hDWI3g6yASy_",
        "colab_type": "text"
      },
      "source": [
        "Another example "
      ]
    },
    {
      "cell_type": "code",
      "metadata": {
        "id": "S9mK6LCd7JCe",
        "colab_type": "code",
        "outputId": "d35b81cf-eb94-4b90-e0ea-df0e4bc79415",
        "colab": {
          "base_uri": "https://localhost:8080/",
          "height": 33
        }
      },
      "source": [
        "x = 150\n",
        "y = 100\n",
        "if y > x:\n",
        "  print(\"y is greater than x\")\n",
        "elif y==x:\n",
        "  print(\"y is same value as  x\")\n",
        "else:\n",
        "  print('y is smaller than x')"
      ],
      "execution_count": 0,
      "outputs": [
        {
          "output_type": "stream",
          "text": [
            "y is smaller than x\n"
          ],
          "name": "stdout"
        }
      ]
    },
    {
      "cell_type": "code",
      "metadata": {
        "id": "s6sbiQNUCLi8",
        "colab_type": "code",
        "outputId": "c2a4ec29-deab-4b97-de13-9d2c03cc5fc6",
        "colab": {
          "base_uri": "https://localhost:8080/",
          "height": 33
        }
      },
      "source": [
        "x = 150\n",
        "y = 1000\n",
        "z=200\n",
        "if y>x and y>z :\n",
        "  print y>x and y>z,\"-\",\"Both conditions are true\"\n",
        "elif y>x or y>z:\n",
        "  print(\"One of the conditions is true \")\n",
        "else:\n",
        "  print('Specified conditions are false')"
      ],
      "execution_count": 0,
      "outputs": [
        {
          "output_type": "stream",
          "text": [
            "True - Both conditions are true\n"
          ],
          "name": "stdout"
        }
      ]
    },
    {
      "cell_type": "markdown",
      "metadata": {
        "id": "AbFfglT_HPd5",
        "colab_type": "text"
      },
      "source": [
        "Input from the User"
      ]
    },
    {
      "cell_type": "code",
      "metadata": {
        "id": "77dWt-euD-wx",
        "colab_type": "code",
        "outputId": "783548be-2864-4041-f7cc-0a27eb72679a",
        "colab": {
          "base_uri": "https://localhost:8080/",
          "height": 70
        }
      },
      "source": [
        "x=float(input('Total number of classes: '))\n",
        "y=float(input('Number of classes attended: '))\n",
        "attend=(float(y)/x)*100\n",
        "\n",
        "if attend>=80:\n",
        "  print \"Congrats! You qualify for the extra credit.\"\n",
        "else:\n",
        "  print \"Sorry! You don't qualify for the extra credit. \""
      ],
      "execution_count": 0,
      "outputs": [
        {
          "output_type": "stream",
          "text": [
            "Total number of classes: 50\n",
            "Number of classes attended: 15\n",
            "Sorry! You don't qualify for the extra credit. \n"
          ],
          "name": "stdout"
        }
      ]
    }
  ]
}