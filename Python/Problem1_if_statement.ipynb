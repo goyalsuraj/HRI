{
  "nbformat": 4,
  "nbformat_minor": 0,
  "metadata": {
    "colab": {
      "name": "Problem1_if_statement.ipynb",
      "provenance": [],
      "collapsed_sections": []
    },
    "kernelspec": {
      "name": "python2",
      "display_name": "Python 2"
    }
  },
  "cells": [
    {
      "cell_type": "markdown",
      "metadata": {
        "id": "u8lCns9vINDx",
        "colab_type": "text"
      },
      "source": [
        "**Problem**\n",
        "\n",
        "Based on an employee's work hours for the week and  hourly wage, calculate the total pay for the week.  Employee qualifies for overtime if hours exceed 40, paid at twice the normal rate.\n",
        "\n",
        "Goal is to request the user to provide an input for hours they worked and their hourly wage to provide an output of how much they will get paid using an if else statement. Also see the two example outputs to cover use cases for normal pay and overtime."
      ]
    },
    {
      "cell_type": "code",
      "metadata": {
        "id": "NK135V8zImNd",
        "colab_type": "code",
        "colab": {}
      },
      "source": [
        "#Add your code below \n",
        "work_hours=None\n",
        "hourly_wage=None\n",
        "\n"
      ],
      "execution_count": 0,
      "outputs": []
    },
    {
      "cell_type": "markdown",
      "metadata": {
        "id": "FS-Gl-DMB7Nw",
        "colab_type": "text"
      },
      "source": [
        "**Example Output1**\n",
        "\n",
        "Total work hours for a given week: 40\n",
        "\n",
        "Hourly wage for the employee: 21\n",
        "\n",
        "$ 840 is the salary for the given week\n",
        "\n",
        "**Example Output2**\n",
        "\n",
        "Total work hours for a given week: 45\n",
        "\n",
        "Hourly wage for the employee: 15\n",
        "\n",
        "$ 750 is the salary for the given week with \n",
        "75 additional money for overtime"
      ]
    }
  ]
}